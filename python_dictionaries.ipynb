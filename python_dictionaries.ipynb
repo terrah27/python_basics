{
 "cells": [
  {
   "cell_type": "markdown",
   "metadata": {},
   "source": [
    "# Python Dictionaries  \n",
    "A dictionary is a collection of key-value pairs."
   ]
  },
  {
   "cell_type": "markdown",
   "metadata": {},
   "source": [
    "### Creating a Dictionary"
   ]
  },
  {
   "cell_type": "code",
   "execution_count": 1,
   "metadata": {},
   "outputs": [],
   "source": [
    "# create empty dictionary\n",
    "cat_dictionary = {}"
   ]
  },
  {
   "cell_type": "code",
   "execution_count": 2,
   "metadata": {},
   "outputs": [],
   "source": [
    "# create a simple dictionary\n",
    "cat_0 = {'color':'orange'}\n",
    "print(cat_0)"
   ]
  },
  {
   "cell_type": "markdown",
   "metadata": {},
   "source": [
    "### Accessing Dictionary Values  \n",
    "If there's a chance the key you're asking for doesn't exist use the get() method!"
   ]
  },
  {
   "cell_type": "code",
   "execution_count": 3,
   "metadata": {},
   "outputs": [
    {
     "name": "stdout",
     "output_type": "stream",
     "text": [
      "orange\n"
     ]
    }
   ],
   "source": [
    "# access value associated with key\n",
    "print(cat_0['color'])"
   ]
  },
  {
   "cell_type": "code",
   "execution_count": 8,
   "metadata": {},
   "outputs": [
    {
     "name": "stdout",
     "output_type": "stream",
     "text": [
      "Bernard\n"
     ]
    }
   ],
   "source": [
    "# access value with get()\n",
    "print(cat_0.get('name'))"
   ]
  },
  {
   "cell_type": "code",
   "execution_count": 9,
   "metadata": {},
   "outputs": [
    {
     "name": "stdout",
     "output_type": "stream",
     "text": [
      "Age is unknown.\n"
     ]
    }
   ],
   "source": [
    "# try to access key that doesn't exist\n",
    "print(cat_0.get('age', 'Age is unknown.'))"
   ]
  },
  {
   "cell_type": "markdown",
   "metadata": {},
   "source": [
    "### Adding to a Dictionary  \n",
    "Dictionaries are dynamic - you can add new key-value pairs at any time."
   ]
  },
  {
   "cell_type": "code",
   "execution_count": 4,
   "metadata": {},
   "outputs": [
    {
     "name": "stdout",
     "output_type": "stream",
     "text": [
      "{'color': 'orange', 'name': 'Bernard', 'size': 'fat'}\n"
     ]
    }
   ],
   "source": [
    "# add information to dictionary\n",
    "cat_0['name'] = 'Bernard'\n",
    "cat_0['size'] = 'fat'\n",
    "print(cat_0)"
   ]
  },
  {
   "cell_type": "markdown",
   "metadata": {},
   "source": [
    "### Modifiying Dictionary Values"
   ]
  },
  {
   "cell_type": "code",
   "execution_count": 5,
   "metadata": {},
   "outputs": [],
   "source": [
    "# Modify cat_0's size\n",
    "cat_0['size'] = 'skinny'"
   ]
  },
  {
   "cell_type": "markdown",
   "metadata": {},
   "source": [
    "### Removing Key-Value Pairs"
   ]
  },
  {
   "cell_type": "code",
   "execution_count": 7,
   "metadata": {},
   "outputs": [
    {
     "name": "stdout",
     "output_type": "stream",
     "text": [
      "{'color': 'orange', 'name': 'Bernard'}\n"
     ]
    }
   ],
   "source": [
    "# delete cat_0 size\n",
    "# note: this deletes the key-value pair permanently\n",
    "del cat_0['size']\n",
    "print(cat_0)"
   ]
  },
  {
   "cell_type": "markdown",
   "metadata": {},
   "source": [
    "### Looping Through All Key-Value Pairs"
   ]
  },
  {
   "cell_type": "code",
   "execution_count": 12,
   "metadata": {},
   "outputs": [
    {
     "name": "stdout",
     "output_type": "stream",
     "text": [
      "Key: color\n",
      "Value: orange\n",
      "\n",
      "Key: name\n",
      "Value: Bernard\n",
      "\n"
     ]
    }
   ],
   "source": [
    "for key, value in cat_0.items():\n",
    "    print(f'Key: {key}')\n",
    "    print(f'Value: {value}\\n')"
   ]
  },
  {
   "cell_type": "markdown",
   "metadata": {},
   "source": [
    "### Looping Through All Keys"
   ]
  },
  {
   "cell_type": "code",
   "execution_count": 13,
   "metadata": {},
   "outputs": [
    {
     "name": "stdout",
     "output_type": "stream",
     "text": [
      "color\n",
      "name\n"
     ]
    }
   ],
   "source": [
    "# loop using keys() method\n",
    "for key in cat_0.keys():\n",
    "    print(key)"
   ]
  },
  {
   "cell_type": "code",
   "execution_count": 14,
   "metadata": {},
   "outputs": [
    {
     "name": "stdout",
     "output_type": "stream",
     "text": [
      "color\n",
      "name\n"
     ]
    }
   ],
   "source": [
    "# keys() method is the default behavior \n",
    "for item in cat_0:\n",
    "    print(item)"
   ]
  },
  {
   "cell_type": "code",
   "execution_count": 15,
   "metadata": {},
   "outputs": [
    {
     "name": "stdout",
     "output_type": "stream",
     "text": [
      "Please add cat size.\n"
     ]
    }
   ],
   "source": [
    "# use keys() to check if key present\n",
    "if 'size' not in cat_0.keys():\n",
    "    print('Please add cat size.')"
   ]
  },
  {
   "cell_type": "markdown",
   "metadata": {},
   "source": [
    "### Looping Through All Values"
   ]
  },
  {
   "cell_type": "code",
   "execution_count": 16,
   "metadata": {},
   "outputs": [
    {
     "name": "stdout",
     "output_type": "stream",
     "text": [
      "orange\n",
      "Bernard\n"
     ]
    }
   ],
   "source": [
    "# loop using values() method\n",
    "for value in cat_0.values():\n",
    "    print(value)"
   ]
  },
  {
   "cell_type": "code",
   "execution_count": 17,
   "metadata": {},
   "outputs": [
    {
     "name": "stdout",
     "output_type": "stream",
     "text": [
      "{'color': 'orange', 'name': 'Bernard', 'color_1': 'orange'}\n",
      "orange\n",
      "Bernard\n"
     ]
    }
   ],
   "source": [
    "# add duplicate value\n",
    "cat_0['color_1'] = 'orange'\n",
    "print(cat_0)\n",
    "# use set to return only unique values\n",
    "for value in set(cat_0.values()):\n",
    "    print(value)"
   ]
  },
  {
   "cell_type": "markdown",
   "metadata": {},
   "source": [
    "### Nesting Dictionaries\n",
    "#### List of Dictionaries"
   ]
  },
  {
   "cell_type": "code",
   "execution_count": 18,
   "metadata": {},
   "outputs": [
    {
     "name": "stdout",
     "output_type": "stream",
     "text": [
      "{'color': 'orange', 'name': 'Bernard', 'color_1': 'orange'}\n",
      "{'color': 'gray', 'name': 'ada'}\n",
      "{'color': 'orange', 'name': 'sampson'}\n",
      "{'color': 'black', 'name': 'neko'}\n"
     ]
    }
   ],
   "source": [
    "# create multiple dictionaries\n",
    "cat_1 = {'color':'gray', 'name':'ada'}\n",
    "cat_2 = {'color':'orange', 'name':'sampson'}\n",
    "cat_3 = {'color':'black', 'name':'neko'}\n",
    "\n",
    "# store dictionaries in list\n",
    "cats = [cat_0, cat_1, cat_2, cat_3]\n",
    "\n",
    "# print out each dictionary\n",
    "for cat in cats:\n",
    "    print(cat)"
   ]
  },
  {
   "cell_type": "markdown",
   "metadata": {},
   "source": [
    "#### A List in a Dictionary"
   ]
  },
  {
   "cell_type": "code",
   "execution_count": 22,
   "metadata": {},
   "outputs": [
    {
     "name": "stdout",
     "output_type": "stream",
     "text": [
      "The cat named ada has the following colors:\n",
      "\tgray\n",
      "\torange\n",
      "\twhite\n"
     ]
    }
   ],
   "source": [
    "# create a cat with multiple colors\n",
    "cat_1 = {'colors':['gray', 'orange', 'white'], 'name':'ada'}\n",
    "\n",
    "# print a summary of the cat\n",
    "print(f\"The cat named {cat_1['name']} has the following colors:\")\n",
    "for color in cat_1['colors']:\n",
    "    print('\\t' + color)"
   ]
  },
  {
   "cell_type": "code",
   "execution_count": null,
   "metadata": {},
   "outputs": [],
   "source": []
  }
 ],
 "metadata": {
  "kernelspec": {
   "display_name": "Python 3",
   "language": "python",
   "name": "python3"
  },
  "language_info": {
   "codemirror_mode": {
    "name": "ipython",
    "version": 3
   },
   "file_extension": ".py",
   "mimetype": "text/x-python",
   "name": "python",
   "nbconvert_exporter": "python",
   "pygments_lexer": "ipython3",
   "version": "3.7.3"
  }
 },
 "nbformat": 4,
 "nbformat_minor": 2
}
