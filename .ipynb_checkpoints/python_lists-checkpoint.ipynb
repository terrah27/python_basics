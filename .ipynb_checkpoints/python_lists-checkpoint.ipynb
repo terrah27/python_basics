{
 "cells": [
  {
   "cell_type": "markdown",
   "metadata": {},
   "source": [
    "# Python Lists  \n",
    "A list is a collection that is ordered and changeable.  You can put anything you like in a list, and elements do not have to be related in any way.  Duplicate elements are allowed.  Lists are written with square brackets.  \n",
    "\n",
    "Because lists usually contain more than one elements a good naming convention is to make the name of the list plural.  In the example below we have a list of colors named 'colors'."
   ]
  },
  {
   "cell_type": "code",
   "execution_count": 1,
   "metadata": {},
   "outputs": [],
   "source": [
    "# create a list of colors\n",
    "colors = ['red', 'orange', 'yellow', 'green', 'blue', 'indigo', 'violet']\n",
    "print(colors)"
   ]
  },
  {
   "cell_type": "markdown",
   "metadata": {},
   "source": [
    "### Accessing Elements in a List  \n",
    "Because lists are ordered collections, you can access any element by using the index or position of the desired element.  \n",
    "\n",
    "**Note the first item in the list is at position 0!  \n",
    "\n",
    "Access the last element in the list - without needing to know exactly how long the list is by using a negative index."
   ]
  },
  {
   "cell_type": "code",
   "execution_count": 2,
   "metadata": {},
   "outputs": [
    {
     "name": "stdout",
     "output_type": "stream",
     "text": [
      "red\n"
     ]
    }
   ],
   "source": [
    "# get the first color in the list\n",
    "print(colors[0])"
   ]
  },
  {
   "cell_type": "code",
   "execution_count": 3,
   "metadata": {},
   "outputs": [
    {
     "name": "stdout",
     "output_type": "stream",
     "text": [
      "violet\n",
      "indigo\n"
     ]
    }
   ],
   "source": [
    "# get the last color in the list\n",
    "print(colors[-1])\n",
    "# get the second to last color in the list\n",
    "print(colors[-2])"
   ]
  },
  {
   "cell_type": "code",
   "execution_count": 4,
   "metadata": {},
   "outputs": [
    {
     "name": "stdout",
     "output_type": "stream",
     "text": [
      "Violet\n"
     ]
    }
   ],
   "source": [
    "# add string method 'title' to output the element in title case\n",
    "print(colors[-1].title())"
   ]
  },
  {
   "cell_type": "code",
   "execution_count": 5,
   "metadata": {},
   "outputs": [
    {
     "name": "stdout",
     "output_type": "stream",
     "text": [
      "The first color in the colors list is: Red\n"
     ]
    }
   ],
   "source": [
    "# compose a message using a color from the list\n",
    "print(f'The first color in the colors list is: {colors[0].title()}')"
   ]
  },
  {
   "cell_type": "markdown",
   "metadata": {},
   "source": [
    "### Finding the Length of a List"
   ]
  },
  {
   "cell_type": "code",
   "execution_count": 6,
   "metadata": {},
   "outputs": [
    {
     "data": {
      "text/plain": [
       "7"
      ]
     },
     "execution_count": 6,
     "metadata": {},
     "output_type": "execute_result"
    }
   ],
   "source": [
    "len(colors)"
   ]
  },
  {
   "cell_type": "markdown",
   "metadata": {},
   "source": [
    "### Slicing a List"
   ]
  },
  {
   "cell_type": "code",
   "execution_count": 7,
   "metadata": {},
   "outputs": [
    {
     "name": "stdout",
     "output_type": "stream",
     "text": [
      "['red', 'orange', 'yellow']\n"
     ]
    }
   ],
   "source": [
    "# slice the list\n",
    "print(colors[0:3])"
   ]
  },
  {
   "cell_type": "code",
   "execution_count": 8,
   "metadata": {},
   "outputs": [
    {
     "name": "stdout",
     "output_type": "stream",
     "text": [
      "['red', 'orange', 'yellow']\n"
     ]
    }
   ],
   "source": [
    "# if you omit the first index python automatically starts from the beginning of the list\n",
    "print(colors[:3])"
   ]
  },
  {
   "cell_type": "code",
   "execution_count": 9,
   "metadata": {},
   "outputs": [
    {
     "name": "stdout",
     "output_type": "stream",
     "text": [
      "['blue', 'indigo', 'violet']\n"
     ]
    }
   ],
   "source": [
    "# if you omit the the second index python automatically returns elements through the end of the list\n",
    "print(colors[4:])"
   ]
  },
  {
   "cell_type": "code",
   "execution_count": 10,
   "metadata": {},
   "outputs": [
    {
     "name": "stdout",
     "output_type": "stream",
     "text": [
      "['blue', 'indigo', 'violet']\n"
     ]
    }
   ],
   "source": [
    "# a negative index returns elements from a certain distance to the end of the list\n",
    "print(colors[-3:])"
   ]
  },
  {
   "cell_type": "code",
   "execution_count": 11,
   "metadata": {},
   "outputs": [
    {
     "name": "stdout",
     "output_type": "stream",
     "text": [
      "['red', 'yellow', 'blue']\n"
     ]
    }
   ],
   "source": [
    "# adding a third argument tells python how many items to skip in the given range\n",
    "print(colors[0:-1:2])"
   ]
  },
  {
   "cell_type": "markdown",
   "metadata": {},
   "source": [
    "### Modifying a List  \n",
    "\n",
    "We can change list elements, and add and delete elements.\n",
    "\n",
    "To change an element, use the name of the list and the index of the element to change, then give the new value.  "
   ]
  },
  {
   "cell_type": "code",
   "execution_count": 12,
   "metadata": {},
   "outputs": [
    {
     "name": "stdout",
     "output_type": "stream",
     "text": [
      "The last color in the list is: Violet\n",
      "Now the last color is: Purple\n"
     ]
    }
   ],
   "source": [
    "# modify a list element\n",
    "print(f'The last color in the list is: {colors[-1].title()}')\n",
    "\n",
    "colors[-1] = 'purple'\n",
    "print(f'Now the last color is: {colors[-1].title()}')\n"
   ]
  },
  {
   "cell_type": "markdown",
   "metadata": {},
   "source": [
    "####  Append Element to End of List"
   ]
  },
  {
   "cell_type": "code",
   "execution_count": 13,
   "metadata": {},
   "outputs": [
    {
     "name": "stdout",
     "output_type": "stream",
     "text": [
      "['red', 'orange', 'yellow', 'green', 'blue', 'indigo', 'purple', 'black']\n"
     ]
    }
   ],
   "source": [
    "# append element to the end of a list - doesn't affect any other list elements\n",
    "colors.append('black')\n",
    "print(colors)"
   ]
  },
  {
   "cell_type": "markdown",
   "metadata": {},
   "source": [
    "#### Insert Elements into List"
   ]
  },
  {
   "cell_type": "code",
   "execution_count": 14,
   "metadata": {},
   "outputs": [
    {
     "name": "stdout",
     "output_type": "stream",
     "text": [
      "['red', 'orange', 'yellow', 'green', 'aqua', 'blue', 'indigo', 'purple', 'black', 'white']\n"
     ]
    }
   ],
   "source": [
    "# add new element at any position using insert() method\n",
    "# insert shifts every value after insertion point one position to the right\n",
    "colors.insert(4, 'aqua')\n",
    "colors.insert(9, 'white')\n",
    "print(colors)"
   ]
  },
  {
   "cell_type": "markdown",
   "metadata": {},
   "source": [
    "#### Remove Elements from List - By Position\n",
    "* del statement: Use when you want to delete an item from a list and not use it in any way.\n",
    "* pop() method: Use when you want to use the item as you remove it fromt the list."
   ]
  },
  {
   "cell_type": "code",
   "execution_count": 15,
   "metadata": {},
   "outputs": [
    {
     "name": "stdout",
     "output_type": "stream",
     "text": [
      "['red', 'orange', 'yellow', 'green', 'blue', 'indigo', 'purple', 'black', 'white']\n"
     ]
    }
   ],
   "source": [
    "# delete item using index and del statement\n",
    "# when using del statement you cannot access the deleted item\n",
    "del colors[4]\n",
    "print(colors)"
   ]
  },
  {
   "cell_type": "code",
   "execution_count": 16,
   "metadata": {},
   "outputs": [
    {
     "name": "stdout",
     "output_type": "stream",
     "text": [
      "Popped Color: White\n",
      "Colors List: ['red', 'orange', 'yellow', 'green', 'blue', 'indigo', 'purple', 'black']\n"
     ]
    }
   ],
   "source": [
    "# remove last item using pop() method\n",
    "# pop() removes the last item of the list and returns it so you can still work with it!\n",
    "popped_color = colors.pop()\n",
    "print(f'Popped Color: {popped_color.title()}')\n",
    "print(f'Colors List: {colors}')"
   ]
  },
  {
   "cell_type": "code",
   "execution_count": 17,
   "metadata": {},
   "outputs": [
    {
     "name": "stdout",
     "output_type": "stream",
     "text": [
      "Popped Color: Yellow\n",
      "Colors List: ['red', 'orange', 'green', 'blue', 'indigo', 'purple', 'black']\n"
     ]
    }
   ],
   "source": [
    "# pop item using position\n",
    "popped_color = colors.pop(2)\n",
    "print(f'Popped Color: {popped_color.title()}')\n",
    "print(f'Colors List: {colors}')"
   ]
  },
  {
   "cell_type": "markdown",
   "metadata": {},
   "source": [
    "#### Remove Elements from List - By Value"
   ]
  },
  {
   "cell_type": "code",
   "execution_count": 18,
   "metadata": {},
   "outputs": [
    {
     "name": "stdout",
     "output_type": "stream",
     "text": [
      "['orange', 'green', 'blue', 'indigo', 'purple', 'black']\n"
     ]
    }
   ],
   "source": [
    "# remove item by value\n",
    "# ***important note - only removes the first occurance of the item specified!\n",
    "colors.remove('red')\n",
    "print(colors)"
   ]
  },
  {
   "cell_type": "code",
   "execution_count": 19,
   "metadata": {},
   "outputs": [
    {
     "name": "stdout",
     "output_type": "stream",
     "text": [
      "Removed color: green\n"
     ]
    }
   ],
   "source": [
    "# remove item so you can still work with it\n",
    "remove_color = 'green'\n",
    "colors.remove(remove_color)\n",
    "print(f'Removed color: {remove_color}')"
   ]
  },
  {
   "cell_type": "markdown",
   "metadata": {},
   "source": [
    "#### Organizing a List\n",
    "* sorted(): lets you display the list in a particular order but doesn't affect the actual order of the list\n",
    "* sort(): changes the list order permanently - can never revert to original order  \n",
    "* reverse(): reverse the order of the list permanently (apply reverse twice to get original order back)\n",
    "\n",
    "\n",
    "**Note if all values aren't lowercase sorting alphabetically is a little more complicated"
   ]
  },
  {
   "cell_type": "code",
   "execution_count": 20,
   "metadata": {},
   "outputs": [
    {
     "name": "stdout",
     "output_type": "stream",
     "text": [
      "Original List:\n",
      "['orange', 'blue', 'indigo', 'purple', 'black']\n",
      "\n",
      "Sorted List:\n",
      "['black', 'blue', 'indigo', 'orange', 'purple']\n",
      "\n",
      "The original list is unchanged!\n",
      "['orange', 'blue', 'indigo', 'purple', 'black']\n"
     ]
    }
   ],
   "source": [
    "# print out list\n",
    "print('Original List:')\n",
    "print(colors)\n",
    "\n",
    "# print sorted list\n",
    "print('\\nSorted List:')\n",
    "print(sorted(colors))\n",
    "\n",
    "# print original list again\n",
    "print('\\nThe original list is unchanged!')\n",
    "print(colors)"
   ]
  },
  {
   "cell_type": "code",
   "execution_count": 21,
   "metadata": {},
   "outputs": [
    {
     "name": "stdout",
     "output_type": "stream",
     "text": [
      "['black', 'blue', 'indigo', 'orange', 'purple']\n"
     ]
    }
   ],
   "source": [
    "# sort the list alphabetically\n",
    "colors.sort()\n",
    "print(colors)"
   ]
  },
  {
   "cell_type": "code",
   "execution_count": 22,
   "metadata": {},
   "outputs": [
    {
     "name": "stdout",
     "output_type": "stream",
     "text": [
      "['purple', 'orange', 'indigo', 'blue', 'black']\n"
     ]
    }
   ],
   "source": [
    "# sort the list in reverse alphabetical order\n",
    "colors.sort(reverse=True)\n",
    "print(colors)"
   ]
  },
  {
   "cell_type": "code",
   "execution_count": 23,
   "metadata": {},
   "outputs": [
    {
     "name": "stdout",
     "output_type": "stream",
     "text": [
      "Original List:\n",
      "['purple', 'orange', 'indigo', 'blue', 'black']\n",
      "\n",
      "Reversed List:\n",
      "['black', 'blue', 'indigo', 'orange', 'purple']\n"
     ]
    }
   ],
   "source": [
    "# reverse the order of the list\n",
    "print('Original List:')\n",
    "print(colors)\n",
    "colors.reverse()\n",
    "print('\\nReversed List:')\n",
    "print(colors)"
   ]
  },
  {
   "cell_type": "markdown",
   "metadata": {},
   "source": [
    "### Copying a List  \n",
    "* Slicing: return a list that contains the entire orginal list\n",
    "* copy(): returns a copy of the list\n"
   ]
  },
  {
   "cell_type": "code",
   "execution_count": 24,
   "metadata": {},
   "outputs": [
    {
     "name": "stdout",
     "output_type": "stream",
     "text": [
      "Original Colors: ['black', 'blue', 'indigo', 'orange', 'purple']\n",
      "\n",
      "Copied Colors: ['black', 'blue', 'indigo', 'orange', 'purple']\n"
     ]
    }
   ],
   "source": [
    "# make a slice that includes the entire original list\n",
    "# omit both first and second index to make a slice that starts with the first item and ends with the last\n",
    "copied_colors = colors[:]\n",
    "print(f'Original Colors: {colors}')\n",
    "print(f'\\nCopied Colors: {copied_colors}')"
   ]
  },
  {
   "cell_type": "code",
   "execution_count": 25,
   "metadata": {},
   "outputs": [
    {
     "name": "stdout",
     "output_type": "stream",
     "text": [
      "Original Colors: ['black', 'blue', 'indigo', 'orange', 'purple', 'lime green']\n",
      "\n",
      "Copied Colors: ['black', 'blue', 'indigo', 'orange', 'purple', 'hot pink']\n"
     ]
    }
   ],
   "source": [
    "# append different items to each list\n",
    "colors.append('lime green')\n",
    "copied_colors.append('hot pink')\n",
    "\n",
    "# lime green is now in original colors and not in copied colors\n",
    "# we have 2 different lists\n",
    "print(f'Original Colors: {colors}')\n",
    "print(f'\\nCopied Colors: {copied_colors}')"
   ]
  },
  {
   "cell_type": "code",
   "execution_count": 26,
   "metadata": {},
   "outputs": [
    {
     "name": "stdout",
     "output_type": "stream",
     "text": [
      "Original Colors: ['black', 'blue', 'indigo', 'orange', 'purple', 'lime green', 'gray', 'brown']\n",
      "More Colors: ['black', 'blue', 'indigo', 'orange', 'purple', 'lime green', 'gray', 'brown']\n"
     ]
    }
   ],
   "source": [
    "# trying to copy without using a slice\n",
    "# this assigns a second variable to the colors list so both variables point to the same list\n",
    "# more_colors is a reference to colors\n",
    "more_colors = colors\n",
    "\n",
    "# append different items to each list\n",
    "colors.append('gray')\n",
    "more_colors.append('brown')\n",
    "\n",
    "# the appended colors are in both lists\n",
    "# changes made to colors are also made to more colors\n",
    "print(f'Original Colors: {colors}')\n",
    "print(f'More Colors: {more_colors}')"
   ]
  },
  {
   "cell_type": "code",
   "execution_count": 27,
   "metadata": {},
   "outputs": [
    {
     "name": "stdout",
     "output_type": "stream",
     "text": [
      "Original Colors: ['black', 'blue', 'indigo', 'orange', 'purple', 'lime green', 'gray']\n",
      "Even More Colors: ['blue', 'indigo', 'orange', 'purple', 'lime green', 'gray', 'brown']\n"
     ]
    }
   ],
   "source": [
    "# copy list using copy() method\n",
    "even_more_colors = colors.copy()\n",
    "\n",
    "# remove different items to each list\n",
    "del colors[-1]\n",
    "del even_more_colors[0]\n",
    "\n",
    "# this worked - changes only occur to the desired list\n",
    "print(f'Original Colors: {colors}')\n",
    "print(f'Even More Colors: {even_more_colors}')"
   ]
  },
  {
   "cell_type": "markdown",
   "metadata": {},
   "source": [
    "### Making Numerical Lists"
   ]
  },
  {
   "cell_type": "code",
   "execution_count": 28,
   "metadata": {},
   "outputs": [
    {
     "name": "stdout",
     "output_type": "stream",
     "text": [
      "[1, 2, 3, 4, 5]\n"
     ]
    }
   ],
   "source": [
    "# create a list of numbers\n",
    "numbers = [1, 2, 3, 4, 5]\n",
    "print(numbers)"
   ]
  },
  {
   "cell_type": "markdown",
   "metadata": {},
   "source": [
    "#### Making a List of Numbers Using range()\n",
    "range() makes it easy to generate a series of numbers.  range() starts counting at the first value and stops at the second value:  The output never contains the second value."
   ]
  },
  {
   "cell_type": "code",
   "execution_count": 29,
   "metadata": {},
   "outputs": [
    {
     "name": "stdout",
     "output_type": "stream",
     "text": [
      "1\n",
      "2\n",
      "3\n",
      "4\n"
     ]
    }
   ],
   "source": [
    "# print numbers in range\n",
    "for i in range(1, 5):\n",
    "    print(i)"
   ]
  },
  {
   "cell_type": "code",
   "execution_count": 30,
   "metadata": {},
   "outputs": [
    {
     "name": "stdout",
     "output_type": "stream",
     "text": [
      "1\n",
      "2\n",
      "3\n",
      "4\n",
      "5\n"
     ]
    }
   ],
   "source": [
    "# if we want to include 5 in the printed values we must specify second value as 6\n",
    "for i in range(1, 6):\n",
    "    print(i)"
   ]
  },
  {
   "cell_type": "code",
   "execution_count": 31,
   "metadata": {},
   "outputs": [
    {
     "name": "stdout",
     "output_type": "stream",
     "text": [
      "0\n",
      "5\n",
      "10\n",
      "15\n"
     ]
    }
   ],
   "source": [
    "# pass third argument to range() to skip numbers\n",
    "for i in range(0, 20, 5):\n",
    "    print(i)"
   ]
  },
  {
   "cell_type": "code",
   "execution_count": 32,
   "metadata": {},
   "outputs": [
    {
     "name": "stdout",
     "output_type": "stream",
     "text": [
      "0\n",
      "1\n",
      "2\n",
      "3\n",
      "4\n",
      "5\n"
     ]
    }
   ],
   "source": [
    "# pass only one argument - range() starts with zero\n",
    "for i in range(6):\n",
    "    print(i)"
   ]
  },
  {
   "cell_type": "code",
   "execution_count": 33,
   "metadata": {},
   "outputs": [
    {
     "name": "stdout",
     "output_type": "stream",
     "text": [
      "[1, 2, 3, 4, 5, 6, 7, 8, 9, 10]\n"
     ]
    }
   ],
   "source": [
    "# use range() to create a list of numbers\n",
    "# use list() to convert series of numbers to list\n",
    "numbers  = list(range(1,11))\n",
    "print(numbers)"
   ]
  },
  {
   "cell_type": "code",
   "execution_count": 34,
   "metadata": {},
   "outputs": [
    {
     "name": "stdout",
     "output_type": "stream",
     "text": [
      "[2, 4, 6, 8, 10, 12, 14, 16, 18, 20]\n"
     ]
    }
   ],
   "source": [
    "# use range() to create a list of doubled numbers\n",
    "# create empty list\n",
    "doubles = []\n",
    "for i in range(1, 11):\n",
    "    i *= 2\n",
    "    doubles.append(i)\n",
    "print(doubles)"
   ]
  },
  {
   "cell_type": "markdown",
   "metadata": {},
   "source": [
    "### Looping Through a List"
   ]
  },
  {
   "cell_type": "code",
   "execution_count": 35,
   "metadata": {},
   "outputs": [
    {
     "name": "stdout",
     "output_type": "stream",
     "text": [
      "1\n",
      "2\n",
      "3\n",
      "4\n",
      "5\n",
      "6\n",
      "7\n",
      "8\n",
      "9\n",
      "10\n"
     ]
    }
   ],
   "source": [
    "# loop through list and print each item\n",
    "for number in numbers:\n",
    "    print(number)"
   ]
  },
  {
   "cell_type": "code",
   "execution_count": 36,
   "metadata": {},
   "outputs": [
    {
     "name": "stdout",
     "output_type": "stream",
     "text": [
      "2\n",
      "4\n",
      "6\n",
      "8\n",
      "10\n",
      "12\n",
      "14\n",
      "16\n",
      "18\n",
      "20\n",
      "[1, 2, 3, 4, 5, 6, 7, 8, 9, 10]\n"
     ]
    }
   ],
   "source": [
    "# do more!\n",
    "# double each number and then print it\n",
    "for number in numbers:\n",
    "    number *= 2\n",
    "    print(number)\n",
    "\n",
    "# note this doesn't actually modify the list    \n",
    "print(numbers)"
   ]
  },
  {
   "cell_type": "code",
   "execution_count": 37,
   "metadata": {},
   "outputs": [
    {
     "name": "stdout",
     "output_type": "stream",
     "text": [
      "[1, 2, 3, 4, 5, 6, 7, 8, 9, 10]\n"
     ]
    }
   ],
   "source": [
    "# loop through list and modify values\n",
    "# iterate over indices and change element at each index\n",
    "for number in range(len(numbers)):\n",
    "    numbers[number] ** 2\n",
    "    \n",
    "print(numbers)"
   ]
  },
  {
   "cell_type": "markdown",
   "metadata": {},
   "source": [
    "### Looping Through a Slice  \n",
    "You can use slicing and looping in combination!"
   ]
  },
  {
   "cell_type": "code",
   "execution_count": 38,
   "metadata": {},
   "outputs": [
    {
     "name": "stdout",
     "output_type": "stream",
     "text": [
      "1\n",
      "2\n",
      "3\n"
     ]
    }
   ],
   "source": [
    "# print first three numbers in list\n",
    "for number in numbers[:3]:\n",
    "    print(number)"
   ]
  },
  {
   "cell_type": "markdown",
   "metadata": {},
   "source": [
    "### Joining Lists\n",
    "* Concatenate Lists: Add list_2 to the end of list_1.\n",
    "* Append items from list_2 to list_1: Add items from list_2 to list_1, one by one.\n",
    "* extend() method: Add the elements of a list to the end of the current list."
   ]
  },
  {
   "cell_type": "code",
   "execution_count": 42,
   "metadata": {},
   "outputs": [
    {
     "name": "stdout",
     "output_type": "stream",
     "text": [
      "[1, 2, 3, 4, 5, 6, 7, 8, 9, 10, 2, 4, 6, 8, 10, 12, 14, 16, 18, 20]\n"
     ]
    }
   ],
   "source": [
    "# concatenate two lists\n",
    "joined_numbers = numbers + doubles\n",
    "print(joined_numbers)"
   ]
  },
  {
   "cell_type": "code",
   "execution_count": 43,
   "metadata": {},
   "outputs": [
    {
     "name": "stdout",
     "output_type": "stream",
     "text": [
      "[1, 2, 3, 4, 5, 6, 7, 8, 9, 10, 2, 4, 6, 8, 10, 12, 14, 16, 18, 20]\n"
     ]
    }
   ],
   "source": [
    "# join lists by appending items from one list to the other\n",
    "for i in doubles:\n",
    "    numbers.append(i)\n",
    "print(numbers)"
   ]
  },
  {
   "cell_type": "code",
   "execution_count": 44,
   "metadata": {},
   "outputs": [
    {
     "name": "stdout",
     "output_type": "stream",
     "text": [
      "[2, 4, 6, 8, 10, 12, 14, 16, 18, 20, 1, 2, 3, 4, 5, 6, 7, 8, 9, 10, 2, 4, 6, 8, 10, 12, 14, 16, 18, 20]\n"
     ]
    }
   ],
   "source": [
    "# join lists using extend()\n",
    "doubles.extend(numbers)\n",
    "print(doubles)"
   ]
  },
  {
   "cell_type": "markdown",
   "metadata": {},
   "source": [
    "### List Comprehensions"
   ]
  },
  {
   "cell_type": "code",
   "execution_count": 41,
   "metadata": {},
   "outputs": [
    {
     "name": "stdout",
     "output_type": "stream",
     "text": [
      "[2, 4, 6, 8, 10, 12, 14, 16, 18, 20]\n"
     ]
    }
   ],
   "source": [
    "# build same list of doubles with list comprehension\n",
    "doubles = [i*2 for i in range(1,11)]\n",
    "print(doubles)"
   ]
  },
  {
   "cell_type": "code",
   "execution_count": null,
   "metadata": {},
   "outputs": [],
   "source": []
  }
 ],
 "metadata": {
  "kernelspec": {
   "display_name": "Python 3",
   "language": "python",
   "name": "python3"
  },
  "language_info": {
   "codemirror_mode": {
    "name": "ipython",
    "version": 3
   },
   "file_extension": ".py",
   "mimetype": "text/x-python",
   "name": "python",
   "nbconvert_exporter": "python",
   "pygments_lexer": "ipython3",
   "version": "3.7.3"
  }
 },
 "nbformat": 4,
 "nbformat_minor": 2
}
